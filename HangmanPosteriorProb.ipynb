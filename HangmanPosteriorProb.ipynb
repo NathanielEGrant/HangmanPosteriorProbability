{
 "cells": [
  {
   "cell_type": "code",
   "execution_count": 6,
   "id": "c46aa2fb-7f36-4332-9fdf-16e11dfbeba8",
   "metadata": {},
   "outputs": [],
   "source": [
    "def getWordCount(file_path):\n",
    "    \"\"\"\n",
    "    This function is used to take in a file with a word and its relative word count\n",
    "    seperated by a space, with each word on its own line\n",
    "    \"\"\"\n",
    "    wordCounts = {}\n",
    "    with open(file_path, 'r') as file:\n",
    "        for line in file:\n",
    "            parts = line.strip().split()\n",
    "            word = parts[0]\n",
    "            amount = int(parts[1])\n",
    "            wordCounts[word] = amount\n",
    "    return wordCounts"
   ]
  },
  {
   "cell_type": "code",
   "execution_count": 8,
   "id": "8cf9d486-6233-4ca0-a00a-e1969850e212",
   "metadata": {},
   "outputs": [],
   "source": [
    "def getTotalWords(wordCounts):\n",
    "    \"\"\"\n",
    "    Returns sum of total word count(not unique)\n",
    "    \"\"\"\n",
    "    return sum(wordCounts.values())"
   ]
  },
  {
   "cell_type": "code",
   "execution_count": 10,
   "id": "79a5ced8-3e08-47d1-9fd6-a61ae56eef2e",
   "metadata": {},
   "outputs": [],
   "source": [
    "def priorProbs(wordCounts, totalCount):\n",
    "    \"\"\"\n",
    "    For each word, calculates the percentage of that word compared to the total words\n",
    "    \"\"\"\n",
    "    priorProbabilities = {}\n",
    "    for word, count in wordCounts.items():\n",
    "        priorProbabilities[word] = count/totalCount\n",
    "    return priorProbabilities"
   ]
  },
  {
   "cell_type": "code",
   "execution_count": 16,
   "id": "46a1a680-dc53-4ab9-bcc3-cdf5ad26da4c",
   "metadata": {},
   "outputs": [],
   "source": [
    "def wordAmounts(priorProbas):\n",
    "    \"\"\"\n",
    "    Takes in all word probabilities and returns the 15 most/least common words\n",
    "    \"\"\"\n",
    "    wordSorted = sorted(priorProbas.items(), key=lambda x: x[1], reverse = True)\n",
    "    for word,prob in wordSorted[:15]:\n",
    "        print(f\"{word} : {prob:.4f}\")\n",
    "    print(\"\\n\")\n",
    "    for word,prob in wordSorted[-15:]:\n",
    "        print(f\"{word} : {prob:.6f}\")\n"
   ]
  },
  {
   "cell_type": "code",
   "execution_count": 18,
   "id": "95bf22be-5306-403a-8693-fc959300304b",
   "metadata": {},
   "outputs": [
    {
     "name": "stdout",
     "output_type": "stream",
     "text": [
      "THREE : 0.0356\n",
      "SEVEN : 0.0233\n",
      "EIGHT : 0.0216\n",
      "WOULD : 0.0209\n",
      "ABOUT : 0.0205\n",
      "THEIR : 0.0190\n",
      "WHICH : 0.0185\n",
      "AFTER : 0.0144\n",
      "FIRST : 0.0143\n",
      "FIFTY : 0.0139\n",
      "OTHER : 0.0138\n",
      "FORTY : 0.0124\n",
      "YEARS : 0.0116\n",
      "THERE : 0.0113\n",
      "SIXTY : 0.0095\n",
      "\n",
      "\n",
      "YIGAL : 0.000001\n",
      "CCAIR : 0.000001\n",
      "CLEFT : 0.000001\n",
      "FABRI : 0.000001\n",
      "FOAMY : 0.000001\n",
      "NIAID : 0.000001\n",
      "PAXON : 0.000001\n",
      "SERNA : 0.000001\n",
      "TOCOR : 0.000001\n",
      "YALOM : 0.000001\n",
      "BOSAK : 0.000001\n",
      "CAIXA : 0.000001\n",
      "MAPCO : 0.000001\n",
      "OTTIS : 0.000001\n",
      "TROUP : 0.000001\n"
     ]
    }
   ],
   "source": [
    "file_path = \"word_counts_05-1.txt\"\n",
    "wordCounts = getWordCount(file_path)\n",
    "totalCount=getTotalWords(wordCounts)\n",
    "priorProbas = priorProbs(wordCounts, totalCount)\n",
    "wordAmounts(priorProbas)"
   ]
  },
  {
   "cell_type": "code",
   "execution_count": 20,
   "id": "d584bc8e-2cea-4c0e-87ae-17e32467392e",
   "metadata": {},
   "outputs": [],
   "source": [
    "def probOfLetterGivenW(letter, word):\n",
    "    \"\"\"\n",
    "    Helper function to help sum up instances of letters in words\n",
    "    \"\"\"\n",
    "    for i in range(5):  \n",
    "        if word[i] == letter:\n",
    "            return 1\n",
    "    return 0"
   ]
  },
  {
   "cell_type": "code",
   "execution_count": 22,
   "id": "4d34f7b2-d263-4a72-9b54-9fb4fd741ea0",
   "metadata": {},
   "outputs": [],
   "source": [
    "def probOfEvidGivenW(evidence, word):\n",
    "    \"\"\"\n",
    "    Helper function to organize and seperate incorrect/correct guesses based on guessed letters\n",
    "    \"\"\"\n",
    "    # Extract the correctly guessed letters and their positions\n",
    "    correct_guesses = evidence[\"correct\"]\n",
    "    incorrect_guesses = evidence[\"incorrect\"]\n",
    "    \n",
    "    # Check if the correct letters are in the right positions\n",
    "    for pos, letter in correct_guesses.items():\n",
    "        if word[pos] != letter:\n",
    "            return 0\n",
    "    \n",
    "    # Check if the incorrect letters don't appear in the unguessed positions\n",
    "    for i in range(5):\n",
    "        if i not in correct_guesses and word[i] in incorrect_guesses:\n",
    "            return 0\n",
    "    \n",
    "    return 1"
   ]
  },
  {
   "cell_type": "code",
   "execution_count": 24,
   "id": "0e0c3fcc-18fa-4856-8ee0-512cdda152a9",
   "metadata": {},
   "outputs": [],
   "source": [
    "def probOfW(word, wordCounts, totalCount):\n",
    "    \"\"\"\n",
    "    Helper function to return percent of word to total word count\n",
    "    \"\"\"\n",
    "    return wordCounts[word] / totalCount"
   ]
  },
  {
   "cell_type": "code",
   "execution_count": 26,
   "id": "9ea2494c-4d6c-4156-a112-eef999e8a91a",
   "metadata": {},
   "outputs": [],
   "source": [
    "def predictiveProb(letter, evidence, wordCounts, totalCount):\n",
    "    \"\"\"\n",
    "    Given a letter and position, function outputs the probability of all possible outcomes\n",
    "    \"\"\"\n",
    "    numerator = 0\n",
    "    denominator = 0\n",
    "    \n",
    "    for word in wordCounts:\n",
    "        # Calculate the posterior probability for each word\n",
    "        prob_E_given_W = probOfEvidGivenW(evidence, word)\n",
    "        prob_W = probOfW(word, wordCounts, totalCount)\n",
    "        posterior = prob_E_given_W * prob_W\n",
    "        \n",
    "        # Update denominator\n",
    "        denominator += posterior\n",
    "        \n",
    "        # Check if the letter is in any position and update numerator\n",
    "        if probOfLetterGivenW(letter, word):\n",
    "            numerator += posterior\n",
    "    \n",
    "    # Return the predictive probability\n",
    "    return numerator / denominator if denominator != 0 else 0\n"
   ]
  },
  {
   "cell_type": "code",
   "execution_count": 28,
   "id": "bcd30ab2-a80c-41a6-b6b8-0885f2d2748d",
   "metadata": {},
   "outputs": [],
   "source": [
    "def findBestNextGuess(unguessed_letters, evidence, wordCounts, totalCount):\n",
    "    \"\"\"\n",
    "    Returns next letter with highest probability and the word with the highest probability of being correct\n",
    "    \"\"\"\n",
    "    best_letter = None\n",
    "    best_prob = 0\n",
    "    \n",
    "    for letter in unguessed_letters:\n",
    "        prob = predictiveProb(letter, evidence, wordCounts, totalCount)\n",
    "        if prob > best_prob:\n",
    "            best_prob = prob\n",
    "            best_letter = letter\n",
    "    \n",
    "    return best_letter, best_prob\n"
   ]
  },
  {
   "cell_type": "code",
   "execution_count": 34,
   "id": "2a8b1d1b-a4ce-4d41-ad26-4bc5a3ad7780",
   "metadata": {},
   "outputs": [
    {
     "name": "stdout",
     "output_type": "stream",
     "text": [
      "Best next guess: R with probability 0.785262785660611\n"
     ]
    }
   ],
   "source": [
    "\"\"\"\n",
    "Here, given A _ _ _ S and an incorrect guess of I we find all letters that are not \n",
    "guessed and find the best probability of the next letter that can be in this word.\n",
    "\"\"\"\n",
    "evidence = {\n",
    "    \"correct\": {0:'A', 4:'S'},\n",
    "    \"incorrect\": ['I']\n",
    "}\n",
    "unguessedLetters = [chr(i) for i in range(65, 91) if chr(i) not in list(evidence[\"correct\"].values()) + evidence[\"incorrect\"]]\n",
    "\n",
    "bestLetter, bestProb = findBestNextGuess(unguessedLetters, evidence, wordCounts, totalCount)\n",
    "print(f\"Best next guess: {bestLetter} with probability {bestProb}\")"
   ]
  },
  {
   "cell_type": "code",
   "execution_count": 38,
   "id": "d2d81003-b0e5-451f-a125-97dcb84ab6c4",
   "metadata": {},
   "outputs": [
    {
     "name": "stdout",
     "output_type": "stream",
     "text": [
      "Best next guess: R with probability 0.5898774885145486\n"
     ]
    }
   ],
   "source": [
    "\"\"\"\n",
    "Here, given _ _ O _ _ and an incorrect guess of A,E,M,N,T we find all letters that are not \n",
    "guessed and find the best probability of the next letter that can be in this word.\n",
    "\"\"\"\n",
    "evidence = {\n",
    "    \"correct\": {2:'O'},\n",
    "    \"incorrect\": ['A','E','M','N','T']\n",
    "}\n",
    "##used chatgpt here because I got hardstuck trying to think of a way to represent all letters for guessing\n",
    "\n",
    "unguessedLetters = [chr(i) for i in range(65, 91) if chr(i) not in list(evidence[\"correct\"].values()) + evidence[\"incorrect\"]]\n",
    "\n",
    "bestLetter, bestProb = findBestNextGuess(unguessedLetters, evidence, wordCounts, totalCount)\n",
    "print(f\"Best next guess: {bestLetter} with probability {bestProb}\")\n"
   ]
  },
  {
   "cell_type": "code",
   "execution_count": 42,
   "id": "1eac0133-909e-4efe-bf13-228b4a129515",
   "metadata": {},
   "outputs": [
    {
     "name": "stdout",
     "output_type": "stream",
     "text": [
      "Best next guess: Y with probability 0.6190119760479037\n"
     ]
    }
   ],
   "source": [
    "\"\"\"\n",
    "Here, given _ U _ _ _ and an incorrect guess of A,E,I,O,S we find all letters that are not \n",
    "guessed and find the best probability of the next letter that can be in this word.\n",
    "\"\"\"\n",
    "evidence = {\n",
    "    \"correct\": {1:'U'},\n",
    "    \"incorrect\": ['A','E','I','O','S']\n",
    "}\n",
    "\n",
    "# Create a list of unguessed letters\n",
    "unguessedLetters = [chr(i) for i in range(65, 91) if chr(i) not in list(evidence[\"correct\"].values()) + evidence[\"incorrect\"]]\n",
    "##used chatgpt here because I got hardstuck trying to think of a way to represent all letters for guessing\n",
    "\n",
    "best_letter, best_prob = findBestNextGuess(unguessedLetters, evidence, wordCounts, totalCount)\n",
    "print(f\"Best next guess: {best_letter} with probability {best_prob}\")\n"
   ]
  }
 ],
 "metadata": {
  "kernelspec": {
   "display_name": "Python 3 (ipykernel)",
   "language": "python",
   "name": "python3"
  },
  "language_info": {
   "codemirror_mode": {
    "name": "ipython",
    "version": 3
   },
   "file_extension": ".py",
   "mimetype": "text/x-python",
   "name": "python",
   "nbconvert_exporter": "python",
   "pygments_lexer": "ipython3",
   "version": "3.12.4"
  }
 },
 "nbformat": 4,
 "nbformat_minor": 5
}
